{
 "metadata": {
  "language_info": {
   "codemirror_mode": {
    "name": "ipython",
    "version": 3
   },
   "file_extension": ".py",
   "mimetype": "text/x-python",
   "name": "python",
   "nbconvert_exporter": "python",
   "pygments_lexer": "ipython3",
   "version": "3.8.3-final"
  },
  "orig_nbformat": 2,
  "kernelspec": {
   "name": "python3",
   "display_name": "Python 3",
   "language": "python"
  }
 },
 "nbformat": 4,
 "nbformat_minor": 2,
 "cells": [
  {
   "cell_type": "code",
   "execution_count": 1,
   "metadata": {},
   "outputs": [],
   "source": [
    "# M1\n",
    "XS_scatter = [[0,0.01],[0,0]]\n",
    "XS_g1 = [1.4,0.01,0.007,XS_scatter[0]]\n",
    "XS_g2 = [0.4,0.15,0.2,XS_scatter[1]]\n",
    "XS_M1 = [XS_g1,XS_g2]\n",
    "# M2\n",
    "XS_scatter = [[0,0.01],[0,0]]\n",
    "XS_g1 = [1.4,0.01,0.007,XS_scatter[0]]\n",
    "XS_g2 = [0.4,0.15,0.2,XS_scatter[1]]\n",
    "XS_M2 = [XS_g1,XS_g2]\n",
    "# M3\n",
    "XS_scatter = [[0,0.01],[0,0]]\n",
    "XS_g1 = [1.3,0.008,0.003,XS_scatter[0]]\n",
    "XS_g2 = [0.5,0.05,0.06,XS_scatter[1]]\n",
    "XS_M3 = [XS_g1,XS_g2]\n",
    "# XS\n",
    "XS_ls = [XS_M1,XS_M2,XS_M3]"
   ]
  },
  {
   "cell_type": "code",
   "execution_count": 1,
   "metadata": {},
   "outputs": [],
   "source": [
    "import main"
   ]
  },
  {
   "cell_type": "code",
   "execution_count": 2,
   "metadata": {},
   "outputs": [],
   "source": [
    "case = main.diffusion_FDM()"
   ]
  },
  {
   "cell_type": "code",
   "execution_count": 3,
   "metadata": {},
   "outputs": [],
   "source": [
    "case.boundary_set('left','reflective',1)\n",
    "case.boundary_set('bottom','reflective',1)\n",
    "case.boundary_set('right','vaccuum')\n",
    "case.boundary_set('top','vaccuum')"
   ]
  },
  {
   "cell_type": "code",
   "execution_count": 4,
   "metadata": {},
   "outputs": [
    {
     "output_type": "stream",
     "name": "stdout",
     "text": [
      "Boundary type\n{'left': 0, 'bottom': 0, 'right': 1, 'top': 1}\n"
     ]
    }
   ],
   "source": [
    "case.print_boundary()"
   ]
  },
  {
   "cell_type": "code",
   "execution_count": 5,
   "metadata": {},
   "outputs": [],
   "source": [
    "case.define_absorp_operator(0)"
   ]
  },
  {
   "cell_type": "code",
   "execution_count": 6,
   "metadata": {},
   "outputs": [],
   "source": [
    "case.define_diffus_operator(0)"
   ]
  },
  {
   "cell_type": "code",
   "execution_count": null,
   "metadata": {},
   "outputs": [],
   "source": []
  }
 ]
}