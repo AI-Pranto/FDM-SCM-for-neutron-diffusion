{
 "metadata": {
  "language_info": {
   "codemirror_mode": {
    "name": "ipython",
    "version": 3
   },
   "file_extension": ".py",
   "mimetype": "text/x-python",
   "name": "python",
   "nbconvert_exporter": "python",
   "pygments_lexer": "ipython3",
   "version": "3.8.3-final"
  },
  "orig_nbformat": 2,
  "kernelspec": {
   "name": "python3",
   "display_name": "Python 3",
   "language": "python"
  }
 },
 "nbformat": 4,
 "nbformat_minor": 2,
 "cells": [
  {
   "cell_type": "code",
   "execution_count": 1,
   "metadata": {},
   "outputs": [],
   "source": [
    "import main"
   ]
  },
  {
   "cell_type": "code",
   "execution_count": 2,
   "metadata": {},
   "outputs": [],
   "source": [
    "import numpy as np"
   ]
  },
  {
   "cell_type": "code",
   "execution_count": 3,
   "metadata": {},
   "outputs": [],
   "source": [
    "material_1 = main.material_FDM(mat_id=0)\n",
    "material_1.set_XS('XS_scatter',[[0,0.01],[0,0]])\n",
    "material_1.set_XS('Diffusion_coef',[1.4,0.4])\n",
    "material_1.set_XS('XS_absorption',[0.01,0.15])\n",
    "# material_1.set_XS('XS_absorption',[0.02,0.15])\n",
    "material_1.set_XS('XS_nu_fission',[0.007,0.2])\n",
    "material_1.set_XS('XS_fission_spectrum',[1.0,0.0])"
   ]
  },
  {
   "cell_type": "code",
   "execution_count": 4,
   "metadata": {},
   "outputs": [],
   "source": [
    "material_2 = main.material_FDM(mat_id=1)\n",
    "material_2.set_XS('XS_scatter',[[0,0.01],[0,0]])\n",
    "material_2.set_XS('Diffusion_coef',[1.4,0.4])\n",
    "material_2.set_XS('XS_absorption',[0.01,0.15])\n",
    "# material_2.set_XS('XS_absorption',[0.02,0.15])\n",
    "material_2.set_XS('XS_nu_fission',[0.007,0.2])\n",
    "material_2.set_XS('XS_fission_spectrum',[1.0,0.0])"
   ]
  },
  {
   "cell_type": "code",
   "execution_count": 5,
   "metadata": {},
   "outputs": [],
   "source": [
    "material_3 = main.material_FDM(mat_id=2)\n",
    "material_3.set_XS('XS_scatter',[[0,0.01],[0,0]])\n",
    "material_3.set_XS('Diffusion_coef',[1.3,0.5])\n",
    "material_3.set_XS('XS_absorption',[0.008,0.05])\n",
    "# material_3.set_XS('XS_absorption',[0.018,0.05])\n",
    "material_3.set_XS('XS_nu_fission',[0.003,0.06])\n",
    "material_3.set_XS('XS_fission_spectrum',[1.0,0.0])"
   ]
  },
  {
   "cell_type": "code",
   "execution_count": 6,
   "metadata": {},
   "outputs": [
    {
     "output_type": "stream",
     "name": "stdout",
     "text": [
      "Material layout:\n[[2 1 2]\n [1 0 2]\n [2 2 2]]\nBlock size:\nx:[24, 32, 24]\ny:[24, 32, 24]\nDiscretization number:\nx:[24, 32, 24]\ny:[24, 32, 24]\n"
     ]
    }
   ],
   "source": [
    "geo = main.geometry_FDM(x_block=3,y_block=3)\n",
    "sl = slice(0, 3, None)\n",
    "geo.set_block_mat(material_3,sl,sl)\n",
    "geo.set_block_mat(material_1,1,1)\n",
    "geo.set_block_mat(material_2,1,0)\n",
    "geo.set_block_mat(material_2,0,1)\n",
    "\n",
    "geo.set_block_size(x_size=[24,32,24],y_size=[24,32,24])\n",
    "geo.set_discretized_num(x_dim=[24,32,24],y_dim=[24,32,24])\n",
    "geo.check_blocks()"
   ]
  },
  {
   "cell_type": "code",
   "execution_count": 7,
   "metadata": {},
   "outputs": [],
   "source": [
    "case = main.solver_FDM(folder_name='TWIGL_Seed_Blanket_2D',group_num=2)\n",
    "case.add_material([material_1,material_2,material_3])\n",
    "case.set_geometry(geo)"
   ]
  },
  {
   "cell_type": "code",
   "execution_count": 8,
   "metadata": {},
   "outputs": [
    {
     "output_type": "stream",
     "name": "stdout",
     "text": [
      "Iteration 1: Eigenvalue k = 0.8446669513193322\n",
      "Error of fission source εq = 93.80720692159554\n",
      "Iteration 2: Eigenvalue k = 0.8899489163397002\n",
      "Error of fission source εq = 2.4242628724761297\n",
      "Iteration 3: Eigenvalue k = 0.8994594776166441\n",
      "Error of fission source εq = 0.5239533647791025\n",
      "Iteration 4: Eigenvalue k = 0.9038026479314233\n",
      "Error of fission source εq = 0.22538331462119918\n",
      "Iteration 5: Eigenvalue k = 0.9064220494043878\n",
      "Error of fission source εq = 0.12536047637440517\n",
      "Iteration 6: Eigenvalue k = 0.9081900679307715\n",
      "Error of fission source εq = 0.0803268662436691\n",
      "Iteration 7: Eigenvalue k = 0.9094479494340283\n",
      "Error of fission source εq = 0.05584263729750807\n",
      "Iteration 8: Eigenvalue k = 0.9103687896329569\n",
      "Error of fission source εq = 0.040708838787608476\n",
      "Iteration 9: Eigenvalue k = 0.9110545506517276\n",
      "Error of fission source εq = 0.030512445372855825\n",
      "Iteration 10: Eigenvalue k = 0.9115708863732314\n",
      "Error of fission source εq = 0.02324199519733913\n",
      "Iteration 11: Eigenvalue k = 0.9119625156101641\n",
      "Error of fission source εq = 0.017866893765133285\n",
      "Iteration 12: Eigenvalue k = 0.9122610517725338\n",
      "Error of fission source εq = 0.013803486055312775\n",
      "Iteration 13: Eigenvalue k = 0.9124894190761462\n",
      "Error of fission source εq = 0.010690902876190747\n",
      "Iteration 14: Eigenvalue k = 0.9126645386803547\n",
      "Error of fission source εq = 0.008288896221447127\n",
      "Iteration 15: Eigenvalue k = 0.9127990586739627\n",
      "Error of fission source εq = 0.006428049762692688\n",
      "Iteration 16: Eigenvalue k = 0.9129025182983144\n",
      "Error of fission source εq = 0.00498390393542016\n",
      "Iteration 17: Eigenvalue k = 0.9129821584390482\n",
      "Error of fission source εq = 0.0038625425087400744\n",
      "Iteration 18: Eigenvalue k = 0.9130435007625036\n",
      "Error of fission source εq = 0.0029919349123756424\n",
      "Iteration 19: Eigenvalue k = 0.9130907698523009\n",
      "Error of fission source εq = 0.00231632971552483\n",
      "Iteration 20: Eigenvalue k = 0.9131272055698135\n",
      "Error of fission source εq = 0.001792376281683508\n",
      "Iteration 21: Eigenvalue k = 0.9131552968018043\n",
      "Error of fission source εq = 0.0013863025196565754\n",
      "Iteration 22: Eigenvalue k = 0.9131769578460901\n",
      "Error of fission source εq = 0.0010717892265971623\n",
      "Iteration 23: Eigenvalue k = 0.9131936623316506\n",
      "Error of fission source εq = 0.0008283350903276728\n",
      "Iteration 24: Eigenvalue k = 0.9132065453539697\n",
      "Error of fission source εq = 0.0006399845165859958\n",
      "Iteration 25: Eigenvalue k = 0.9132164816235218\n",
      "Error of fission source εq = 0.0004943323412325608\n",
      "Iteration 26: Eigenvalue k = 0.9132241454015892\n",
      "Error of fission source εq = 0.0003817436998785938\n",
      "Iteration 27: Eigenvalue k = 0.9132300565456968\n",
      "Error of fission source εq = 0.00029474260580207405\n",
      "Iteration 28: Eigenvalue k = 0.9132346159266103\n",
      "Error of fission source εq = 0.00022753328155718455\n",
      "Iteration 29: Eigenvalue k = 0.9132381326936855\n",
      "Error of fission source εq = 0.00017562599683988356\n",
      "Iteration 30: Eigenvalue k = 0.9132408452775692\n",
      "Error of fission source εq = 0.00013554507969964135\n",
      "Iteration 31: Eigenvalue k = 0.9132429375756896\n",
      "Error of fission source εq = 0.00010460141917461804\n",
      "Iteration 32: Met the criteria and k = 0.9132445514291754, εq = 8.07154754175725e-05\n"
     ]
    }
   ],
   "source": [
    "case.solve_source_iter_correct(max_iter=50,k_tolerance=1e-5,flux_tolerance=1e-3,initial_k=1.0)"
   ]
  },
  {
   "cell_type": "code",
   "execution_count": null,
   "metadata": {},
   "outputs": [],
   "source": []
  }
 ]
}