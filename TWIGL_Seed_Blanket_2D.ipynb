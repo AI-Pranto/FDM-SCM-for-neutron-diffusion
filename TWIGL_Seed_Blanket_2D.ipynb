{
 "metadata": {
  "language_info": {
   "codemirror_mode": {
    "name": "ipython",
    "version": 3
   },
   "file_extension": ".py",
   "mimetype": "text/x-python",
   "name": "python",
   "nbconvert_exporter": "python",
   "pygments_lexer": "ipython3",
   "version": "3.8.3-final"
  },
  "orig_nbformat": 2,
  "kernelspec": {
   "name": "python3",
   "display_name": "Python 3",
   "language": "python"
  }
 },
 "nbformat": 4,
 "nbformat_minor": 2,
 "cells": [
  {
   "cell_type": "code",
   "execution_count": 1,
   "metadata": {},
   "outputs": [],
   "source": [
    "import main"
   ]
  },
  {
   "cell_type": "code",
   "execution_count": 2,
   "metadata": {},
   "outputs": [],
   "source": [
    "import numpy as np"
   ]
  },
  {
   "cell_type": "code",
   "execution_count": 3,
   "metadata": {},
   "outputs": [],
   "source": [
    "material_1 = main.material_FDM(mat_id=0)\n",
    "material_1.set_XS('XS_scatter',[[0,0.01],[0,0]])\n",
    "material_1.set_XS('Diffusion_coef',[1.4,0.4])\n",
    "material_1.set_XS('XS_absorption',[0.01,0.15])\n",
    "material_1.set_XS('XS_nu_fission',[0.007,0.2])\n",
    "material_1.set_XS('XS_fission_spectrum',[1.0,0.0])"
   ]
  },
  {
   "cell_type": "code",
   "execution_count": 4,
   "metadata": {},
   "outputs": [],
   "source": [
    "material_2 = main.material_FDM(mat_id=1)\n",
    "material_2.set_XS('XS_scatter',[[0,0.01],[0,0]])\n",
    "material_2.set_XS('Diffusion_coef',[1.4,0.4])\n",
    "material_2.set_XS('XS_absorption',[0.01,0.15])\n",
    "material_2.set_XS('XS_nu_fission',[0.007,0.2])\n",
    "material_2.set_XS('XS_fission_spectrum',[1.0,0.0])"
   ]
  },
  {
   "cell_type": "code",
   "execution_count": 5,
   "metadata": {},
   "outputs": [],
   "source": [
    "material_3 = main.material_FDM(mat_id=2)\n",
    "material_3.set_XS('XS_scatter',[[0,0.01],[0,0]])\n",
    "material_3.set_XS('Diffusion_coef',[1.3,0.5])\n",
    "material_3.set_XS('XS_absorption',[0.008,0.05])\n",
    "material_3.set_XS('XS_nu_fission',[0.003,0.06])\n",
    "material_3.set_XS('XS_fission_spectrum',[1.0,0.0])"
   ]
  },
  {
   "cell_type": "code",
   "execution_count": 6,
   "metadata": {},
   "outputs": [
    {
     "output_type": "stream",
     "name": "stdout",
     "text": [
      "Material layout:\n[[2 1 2]\n [1 0 2]\n [2 2 2]]\nBlock size:\nx:[24, 32, 24]\ny:[24, 32, 24]\nDiscretization number:\nx:[24, 32, 24]\ny:[24, 32, 24]\n"
     ]
    }
   ],
   "source": [
    "geo = main.geometry_FDM(x_block=3,y_block=3)\n",
    "sl = slice(0, 3, None)\n",
    "geo.set_block_mat(material_3,sl,sl)\n",
    "geo.set_block_mat(material_1,1,1)\n",
    "geo.set_block_mat(material_2,1,0)\n",
    "geo.set_block_mat(material_2,0,1)\n",
    "\n",
    "geo.set_block_size(x_size=[24,32,24],y_size=[24,32,24])\n",
    "geo.set_discretized_num(x_dim=[24,32,24],y_dim=[24,32,24])\n",
    "geo.check_blocks()"
   ]
  },
  {
   "cell_type": "code",
   "execution_count": 7,
   "metadata": {},
   "outputs": [],
   "source": [
    "case = main.solver_FDM(group_num=2)\n",
    "case.add_material([material_1,material_2,material_3])\n",
    "case.set_geometry(geo)"
   ]
  },
  {
   "cell_type": "code",
   "execution_count": 8,
   "metadata": {},
   "outputs": [
    {
     "output_type": "stream",
     "name": "stdout",
     "text": [
      "1524.1107500000003\n1524.1107500000003\nIteration 1: Eigenvalue k met the criterion and k = 1.0\n"
     ]
    }
   ],
   "source": [
    "case.solve_source_iter(max_iter=10,k_tolerance=1e-3,flux_tolerance=1e-3,initial_k=1.0)"
   ]
  },
  {
   "cell_type": "code",
   "execution_count": null,
   "metadata": {},
   "outputs": [],
   "source": []
  }
 ]
}