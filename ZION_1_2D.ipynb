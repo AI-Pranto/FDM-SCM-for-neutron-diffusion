{
 "metadata": {
  "language_info": {
   "codemirror_mode": {
    "name": "ipython",
    "version": 3
   },
   "file_extension": ".py",
   "mimetype": "text/x-python",
   "name": "python",
   "nbconvert_exporter": "python",
   "pygments_lexer": "ipython3",
   "version": "3.8.3-final"
  },
  "orig_nbformat": 2,
  "kernelspec": {
   "name": "python3",
   "display_name": "Python 3",
   "language": "python"
  }
 },
 "nbformat": 4,
 "nbformat_minor": 2,
 "cells": [
  {
   "cell_type": "code",
   "execution_count": 1,
   "metadata": {},
   "outputs": [],
   "source": [
    "import numpy as np\n",
    "import main"
   ]
  },
  {
   "cell_type": "code",
   "execution_count": 2,
   "metadata": {},
   "outputs": [],
   "source": [
    "M_ls = []"
   ]
  },
  {
   "cell_type": "code",
   "execution_count": 3,
   "metadata": {},
   "outputs": [],
   "source": [
    "M = main.material_FDM(mat_id=1)\n",
    "M.set_XS('XS_scatter',[[0,1.74200E-02],[0,0]])\n",
    "M.set_XS('Diffusion_coef',[1.41760E+00,3.73350E-01])\n",
    "M.set_XS('XS_absorption',[8.55000E-03,6.66900E-02])\n",
    "M.set_XS('XS_nu_fission',[5.36000E-03,1.04330E-01])\n",
    "M.set_XS('XS_fission_spectrum',[1.0,0.0])\n",
    "M_ls.append(M)\n",
    "\n",
    "M = main.material_FDM(mat_id=2)\n",
    "M.set_XS('XS_scatter',[[0,1.69400E-02],[0,0]])\n",
    "M.set_XS('Diffusion_coef',[1.41920E+00,3.73700E-01])\n",
    "M.set_XS('XS_absorption',[8.82000E-03,7.60600E-02])\n",
    "M.set_XS('XS_nu_fission',[6.01000E-03,1.24720E-01])\n",
    "M.set_XS('XS_fission_spectrum',[1.0,0.0])\n",
    "M_ls.append(M)\n",
    "\n",
    "M = main.material_FDM(mat_id=3)\n",
    "M.set_XS('XS_scatter',[[0,1.65800E-02],[0,0]])\n",
    "M.set_XS('Diffusion_coef',[1.42650E+00,3.74240E-01])\n",
    "M.set_XS('XS_absorption',[9.02000E-03,8.35900E-02])\n",
    "M.set_XS('XS_nu_fission',[6.53000E-03,1.41200E-01])\n",
    "M.set_XS('XS_fission_spectrum',[1.0,0.0])\n",
    "M_ls.append(M)\n",
    "\n",
    "M = main.material_FDM(mat_id=4)\n",
    "M.set_XS('XS_scatter',[[0,1.75651E-02],[0,0]])\n",
    "M.set_XS('Diffusion_coef',[1.47410E+00,2.96746E-01])\n",
    "M.set_XS('XS_absorption',[1.55610E-03,1.78450E-02])\n",
    "M.set_XS('XS_nu_fission',[0.0,0.0])\n",
    "M.set_XS('XS_fission_spectrum',[1.0,0.0])\n",
    "M_ls.append(M)\n",
    "\n",
    "M = main.material_FDM(mat_id=5)\n",
    "M.set_XS('XS_scatter',[[0,2.90300E-02],[0,0]])\n",
    "M.set_XS('Diffusion_coef',[1.45540E+00,2.89940E-01])\n",
    "M.set_XS('XS_absorption',[4.70000E-04,9.49000E-03])\n",
    "M.set_XS('XS_nu_fission',[0.0,0.0])\n",
    "M.set_XS('XS_fission_spectrum',[1.0,0.0])\n",
    "M_ls.append(M)\n",
    "\n",
    "M = main.material_FDM(mat_id=6)\n",
    "M.set_XS('XS_scatter',[[0,1.75651E-02],[0,0]])\n",
    "M.set_XS('Diffusion_coef',[1.47410E+00,2.96746E-01])\n",
    "M.set_XS('XS_absorption',[1.55610E-03,1.78450E-02])\n",
    "M.set_XS('XS_nu_fission',[0.0,0.0])\n",
    "M.set_XS('XS_fission_spectrum',[1.0,0.0])\n",
    "M_ls.append(M)\n",
    "\n",
    "M = main.material_FDM(mat_id=7)\n",
    "M.set_XS('XS_scatter',[[0,1.75651E-02],[0,0]])\n",
    "M.set_XS('Diffusion_coef',[1.47410E+00,2.96746E-01])\n",
    "M.set_XS('XS_absorption',[1.55610E-03,1.78450E-02])\n",
    "M.set_XS('XS_nu_fission',[0.0,0.0])\n",
    "M.set_XS('XS_fission_spectrum',[1.0,0.0])\n",
    "M_ls.append(M)"
   ]
  },
  {
   "cell_type": "code",
   "execution_count": 4,
   "metadata": {},
   "outputs": [
    {
     "output_type": "stream",
     "name": "stdout",
     "text": [
      "Material layout:\n[[1 2 1 2 1 2 1 3 6]\n [2 1 2 1 2 1 3 3 6]\n [1 2 1 2 1 2 1 3 6]\n [2 1 2 1 2 1 3 3 6]\n [1 2 1 2 2 2 3 7 5]\n [2 1 2 1 2 3 3 6 5]\n [1 3 1 3 3 3 7 5 5]\n [3 3 3 3 7 4 5 5 5]\n [4 4 4 4 5 5 5 5 5]]\nBlock size:\nx:[10.804, 21.608, 21.608, 21.608, 21.608, 21.608, 21.608, 21.608, 21.608]\ny:[10.804, 21.608, 21.608, 21.608, 21.608, 21.608, 21.608, 21.608, 21.608]\nDiscretization number:\nx:[10, 20, 20, 20, 20, 20, 20, 20, 20]\ny:[10, 20, 20, 20, 20, 20, 20, 20, 20]\n"
     ]
    }
   ],
   "source": [
    "geo = main.geometry_FDM(x_block=9,y_block=9)\n",
    "layout = np.array([[1,2,1,2,1,2,1,3,6],[2,1,2,1,2,1,3,3,6],[1,2,1,2,1,2,1,3,6],[2,1,2,1,2,1,3,3,6],[1,2,1,2,2,2,3,7,5],[2,1,2,1,2,3,3,6,5],[1,3,1,3,3,3,7,5,5],[3,3,3,3,7,4,5,5,5],[4,4,4,4,5,5,5,5,5]],dtype=np.int32)\n",
    "\n",
    "geo.set_block_mat_by_array(layout)\n",
    "\n",
    "geo.set_block_size(x_size=[10.804,21.608,21.608,21.608,21.608,21.608,21.608,21.608,21.608],y_size=[10.804,21.608,21.608,21.608,21.608,21.608,21.608,21.608,21.608])\n",
    "# geo.set_discretized_num(x_dim=[8,16,16,16],y_dim=[8,16,16,16])\n",
    "# geo.set_discretized_num(x_dim=[4,8,8,8],y_dim=[4,8,8,8])\n",
    "geo.set_discretized_num(x_dim=[10,20,20,20,20,20,20,20,20],y_dim=[10,20,20,20,20,20,20,20,20])\n",
    "geo.check_blocks()"
   ]
  },
  {
   "cell_type": "code",
   "execution_count": 5,
   "metadata": {},
   "outputs": [],
   "source": [
    "case = main.solver_FDM(group_num=2)\n",
    "case.add_material(M_ls)\n",
    "case.set_geometry(geo)"
   ]
  },
  {
   "cell_type": "code",
   "execution_count": 6,
   "metadata": {},
   "outputs": [
    {
     "output_type": "stream",
     "name": "stdout",
     "text": [
      "Iteration 1: Eigenvalue k = 1.2514159116618049\n",
      "Iteration 2: Eigenvalue k = 1.2577269177822106\n",
      "Iteration 3: Eigenvalue k = 1.2616656363073062\n",
      "Iteration 4: Eigenvalue k = 1.264260207180103\n",
      "Iteration 5: Eigenvalue k = 1.2660815991546244\n",
      "Iteration 6: Eigenvalue k = 1.2674259051024768\n",
      "Iteration 7: Eigenvalue k = 1.2684577833813022\n",
      "Iteration 8: Eigenvalue k = 1.2692749308669549\n",
      "Iteration 9: Eigenvalue k = 1.2699385326380581\n",
      "Iteration 10: Eigenvalue k = 1.2704886769489583\n",
      "Iteration 11: Eigenvalue k = 1.2709526488453804\n",
      "Iteration 12: Eigenvalue k = 1.271349630517804\n",
      "Iteration 13: Eigenvalue k = 1.271693487329894\n",
      "Iteration 14: Eigenvalue k = 1.271994484853228\n",
      "Iteration 15: Eigenvalue k = 1.272260383848228\n",
      "Iteration 16: Eigenvalue k = 1.272497159860956\n",
      "Iteration 17: Eigenvalue k = 1.2727094888618675\n",
      "Iteration 18: Eigenvalue k = 1.272901082819512\n",
      "Iteration 19: Eigenvalue k = 1.2730749265163175\n",
      "Iteration 20: Eigenvalue k = 1.2732334478579719\n",
      "Iteration 21: Eigenvalue k = 1.2733786424573346\n",
      "Iteration 22: Eigenvalue k = 1.2735121661856659\n",
      "Iteration 23: Eigenvalue k = 1.273635404898336\n",
      "Iteration 24: Eigenvalue k = 1.2737495276413189\n",
      "Iteration 25: Eigenvalue k = 1.2738555277313564\n",
      "Iteration 26: Eigenvalue k = 1.2739542548175569\n",
      "Iteration 27: Eigenvalue k = 1.2740464401545153\n",
      "Iteration 28: Eigenvalue k = 1.2741327167084926\n",
      "Iteration 29: Eigenvalue k = 1.2742136352900908\n",
      "Iteration 30: Eigenvalue k = 1.2742896776018453\n",
      "Iteration 31: Eigenvalue k = 1.2743612668690374\n",
      "Iteration 32: Eigenvalue k = 1.2744287765614424\n",
      "Iteration 33: Eigenvalue k = 1.2744925375952922\n",
      "Iteration 34: Eigenvalue k = 1.2745528443164507\n",
      "Iteration 35: Eigenvalue k = 1.2746099594994835\n",
      "Iteration 36: Eigenvalue k = 1.2746641185469223\n",
      "Iteration 37: Eigenvalue k = 1.2747155330345588\n",
      "Iteration 38: Eigenvalue k = 1.2747643937188775\n",
      "Iteration 39: Eigenvalue k = 1.2748108730997163\n",
      "Iteration 40: Eigenvalue k = 1.2748551276132034\n",
      "Iteration 41: Eigenvalue k = 1.2748972995158323\n",
      "Iteration 42: Eigenvalue k = 1.2749375185093128\n",
      "Iteration 43: Eigenvalue k = 1.2749759031468653\n",
      "Iteration 44: Eigenvalue k = 1.2750125620544814\n",
      "Iteration 45: Eigenvalue k = 1.2750475949948812\n",
      "Iteration 46: Eigenvalue k = 1.2750810937972248\n",
      "Iteration 47: Eigenvalue k = 1.2751131431718525\n",
      "Iteration 48: Eigenvalue k = 1.2751438214261959\n",
      "Iteration 49: Eigenvalue k = 1.2751732010954697\n",
      "Iteration 50: Eigenvalue k = 1.2752013494996466\n",
      "Iteration 51: Eigenvalue k = 1.2752283292364675\n",
      "Iteration 52: Eigenvalue k = 1.2752541986188102\n",
      "Iteration 53: Eigenvalue k = 1.275279012063508\n",
      "Iteration 54: Eigenvalue k = 1.2753028204377166\n",
      "Iteration 55: Eigenvalue k = 1.2753256713680614\n",
      "Iteration 56: Eigenvalue k = 1.2753476095170941\n",
      "Iteration 57: Eigenvalue k = 1.2753686768309525\n",
      "Iteration 58: Eigenvalue k = 1.2753889127616285\n",
      "Iteration 59: Eigenvalue k = 1.275408354466792\n",
      "Iteration 60: Eigenvalue k = 1.2754270369897316\n",
      "Iteration 61: Eigenvalue k = 1.2754449934216747\n",
      "Iteration 62: Eigenvalue k = 1.2754622550484418\n",
      "Iteration 63: Eigenvalue k = 1.2754788514831699\n",
      "Iteration 64: Eigenvalue k = 1.2754948107866175\n",
      "Iteration 65: Eigenvalue k = 1.2755101595763942\n",
      "Iteration 66: Eigenvalue k = 1.2755249231262829\n",
      "Iteration 67: Eigenvalue k = 1.2755391254567154\n",
      "Iteration 68: Eigenvalue k = 1.2755527894173002\n",
      "Iteration 69: Eigenvalue k = 1.275565936762242\n",
      "Iteration 70: Eigenvalue k met the criterion and k = 1.2755785882193629\n"
     ]
    }
   ],
   "source": [
    "case.solve_source_iter_correct(max_iter=100,k_tolerance=1e-5,flux_tolerance=1e-3,initial_k=1.0)"
   ]
  },
  {
   "cell_type": "code",
   "execution_count": null,
   "metadata": {},
   "outputs": [],
   "source": []
  }
 ]
}