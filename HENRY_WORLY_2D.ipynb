{
 "metadata": {
  "language_info": {
   "codemirror_mode": {
    "name": "ipython",
    "version": 3
   },
   "file_extension": ".py",
   "mimetype": "text/x-python",
   "name": "python",
   "nbconvert_exporter": "python",
   "pygments_lexer": "ipython3",
   "version": "3.8.3-final"
  },
  "orig_nbformat": 2,
  "kernelspec": {
   "name": "python3",
   "display_name": "Python 3",
   "language": "python"
  }
 },
 "nbformat": 4,
 "nbformat_minor": 2,
 "cells": [
  {
   "cell_type": "code",
   "execution_count": 1,
   "metadata": {},
   "outputs": [],
   "source": [
    "import numpy as np\n",
    "import main"
   ]
  },
  {
   "cell_type": "code",
   "execution_count": 2,
   "metadata": {},
   "outputs": [],
   "source": [
    "material_1 = main.material_FDM(mat_id=0)\n",
    "material_1.set_XS('XS_scatter',[[0,0.01422],[0,0]])\n",
    "material_1.set_XS('Diffusion_coef',[1.3880,0.3842])\n",
    "material_1.set_XS('XS_absorption',[0.009710,0.121800])\n",
    "material_1.set_XS('XS_nu_fission',[0.006499,0.142900])\n",
    "material_1.set_XS('XS_fission_spectrum',[1.0,0.0])"
   ]
  },
  {
   "cell_type": "code",
   "execution_count": 3,
   "metadata": {},
   "outputs": [],
   "source": [
    "material_2 = main.material_FDM(mat_id=1)\n",
    "material_2.set_XS('XS_scatter',[[0,0.02838],[0,0]])\n",
    "material_2.set_XS('Diffusion_coef',[1.4470,0.3748])\n",
    "material_2.set_XS('XS_absorption',[0.009447,0.089290])\n",
    "material_2.set_XS('XS_nu_fission',[0.006505,0.132500])\n",
    "material_2.set_XS('XS_fission_spectrum',[1.0,0.0])"
   ]
  },
  {
   "cell_type": "code",
   "execution_count": 4,
   "metadata": {},
   "outputs": [],
   "source": [
    "material_3 = main.material_FDM(mat_id=2)\n",
    "material_3.set_XS('XS_scatter',[[0,0.01730],[0,0]])\n",
    "material_3.set_XS('Diffusion_coef',[1.5450,0.3126])\n",
    "material_3.set_XS('XS_absorption',[0.000444,0.008736])\n",
    "material_3.set_XS('XS_nu_fission',[0,0])\n",
    "material_3.set_XS('XS_fission_spectrum',[1.0,0.0])"
   ]
  },
  {
   "cell_type": "code",
   "execution_count": 5,
   "metadata": {},
   "outputs": [
    {
     "output_type": "stream",
     "name": "stdout",
     "text": [
      "Material layout:\n[[0 1 0 2]\n [1 0 1 2]\n [0 1 0 2]\n [2 2 2 2]]\nBlock size:\nx:[4, 8, 8, 8]\ny:[4, 8, 8, 8]\nDiscretization number:\nx:[4, 8, 8, 8]\ny:[4, 8, 8, 8]\n"
     ]
    }
   ],
   "source": [
    "geo = main.geometry_FDM(x_block=4,y_block=4)\n",
    "# sl = slice(0, 4, None)\n",
    "# # W\n",
    "# geo.set_block_mat(material_3,sl,sl)\n",
    "# # A\n",
    "# geo.set_block_mat(material_1,0,0)\n",
    "# geo.set_block_mat(material_1,2,0)\n",
    "# geo.set_block_mat(material_1,1,1)\n",
    "# geo.set_block_mat(material_1,0,2)\n",
    "# geo.set_block_mat(material_1,2,2)\n",
    "# # B\n",
    "# geo.set_block_mat(material_2,1,0)\n",
    "# geo.set_block_mat(material_2,0,1)\n",
    "# geo.set_block_mat(material_2,2,1)\n",
    "# geo.set_block_mat(material_2,1,2)\n",
    "layout = np.array([[0,1,0,2],[1,0,1,2],[0,1,0,2],[2,2,2,2]],dtype=np.int32)\n",
    "\n",
    "geo.set_block_mat_by_array(layout)\n",
    "\n",
    "geo.set_block_size(x_size=[4,8,8,8],y_size=[4,8,8,8])\n",
    "# geo.set_discretized_num(x_dim=[8,16,16,16],y_dim=[8,16,16,16])\n",
    "geo.set_discretized_num(x_dim=[4,8,8,8],y_dim=[4,8,8,8])\n",
    "# geo.set_discretized_num(x_dim=[16,32,32,32],y_dim=[16,32,32,32])\n",
    "geo.check_blocks()"
   ]
  },
  {
   "cell_type": "code",
   "execution_count": 6,
   "metadata": {},
   "outputs": [],
   "source": [
    "case = main.solver_FDM(group_num=2)\n",
    "case.add_material([material_1,material_2,material_3])\n",
    "case.set_geometry(geo)"
   ]
  },
  {
   "cell_type": "code",
   "execution_count": 7,
   "metadata": {},
   "outputs": [
    {
     "output_type": "stream",
     "name": "stdout",
     "text": [
      "Iteration 1: Eigenvalue k = 0.810795241925729\n",
      "Iteration 2: Eigenvalue k = 0.8350530428821624\n",
      "Iteration 3: Eigenvalue k = 0.8440820525300536\n",
      "Iteration 4: Eigenvalue k = 0.847857942726747\n",
      "Iteration 5: Eigenvalue k = 0.8495153203808048\n",
      "Iteration 6: Eigenvalue k = 0.8502542001091763\n",
      "Iteration 7: Eigenvalue k = 0.8505852652707064\n",
      "Iteration 8: Eigenvalue k = 0.8507338629578974\n",
      "Iteration 9: Eigenvalue k met the criterion and k = 0.8508006044998866\n"
     ]
    }
   ],
   "source": [
    "case.solve_source_iter_correct(max_iter=100,k_tolerance=1e-4,flux_tolerance=1e-3,initial_k=1.0)"
   ]
  },
  {
   "cell_type": "code",
   "execution_count": null,
   "metadata": {},
   "outputs": [],
   "source": []
  }
 ]
}